{
 "cells": [
  {
   "cell_type": "code",
   "execution_count": 19,
   "metadata": {},
   "outputs": [],
   "source": [
    "import pandas as pd\n",
    "\n",
    "df = pd.read_csv('./english_dict.csv')"
   ]
  },
  {
   "cell_type": "code",
   "execution_count": 20,
   "metadata": {},
   "outputs": [],
   "source": [
    "len_key = 'len'\n",
    "df[len_key] = [len(value[1]) for value in df.values]\n",
    "df = df.sort_values(by=len_key, ascending=False)\n",
    "df = df.drop(columns=[len_key])"
   ]
  },
  {
   "cell_type": "code",
   "execution_count": 21,
   "metadata": {},
   "outputs": [],
   "source": [
    "new_dict = {}\n",
    "\n",
    "for values in df.values:\n",
    "    values = [value.lower() for value in values]\n",
    "    if values[1] not in new_dict:\n",
    "        new_dict[values[1]] = [values[0]]\n",
    "    else:\n",
    "        new_dict[values[1]].append(values[0])"
   ]
  },
  {
   "cell_type": "code",
   "execution_count": 22,
   "metadata": {},
   "outputs": [],
   "source": [
    "def find_english_words(sentence, list_english_words):\n",
    "    i = 0\n",
    "    start_idx = i\n",
    "    list_words = sentence.split()\n",
    "    elements = []\n",
    "    \n",
    "    while i < len(list_words):\n",
    "        sub_list_english_words = [english_word for english_word in list_english_words if english_word.startswith(list_words[i])]\n",
    "        flag = False\n",
    "        english_word = ''\n",
    "        \n",
    "        for word in sub_list_english_words:\n",
    "            if sentence[start_idx:].startswith(word):\n",
    "                elements.append({'word': word, 'english': True})\n",
    "                english_word = word\n",
    "                flag = True\n",
    "                break\n",
    "        \n",
    "        if flag:\n",
    "            start_idx += len(english_word) + 1\n",
    "            i += len(word.split())\n",
    "        else:\n",
    "            elements.append({'word': list_words[i], 'english': False})\n",
    "            start_idx += len(list_words[i]) + 1\n",
    "            i += 1 \n",
    "            \n",
    "    return elements"
   ]
  },
  {
   "cell_type": "code",
   "execution_count": 23,
   "metadata": {},
   "outputs": [],
   "source": [
    "def convert_to_vnese(sentence, english_dict):\n",
    "    elements = find_english_words(sentence, list(english_dict.keys()))\n",
    "    \n",
    "    word_arrays = []\n",
    "    for element in elements:\n",
    "        if element['english']:\n",
    "            word_arrays.append(english_dict[element['word']])\n",
    "        else:\n",
    "            word_arrays.append([element['word']])\n",
    "            \n",
    "    results = word_arrays[0]\n",
    "    for i in range(1, len(word_arrays)):\n",
    "        results = [a + ' ' + b for a in results for b in word_arrays[i]]                 \n",
    "            \n",
    "    return results"
   ]
  },
  {
   "attachments": {},
   "cell_type": "markdown",
   "metadata": {},
   "source": [
    "### Test"
   ]
  },
  {
   "cell_type": "code",
   "execution_count": 24,
   "metadata": {},
   "outputs": [
    {
     "name": "stdout",
     "output_type": "stream",
     "text": [
      "tạo da lô pây\n",
      "tạo da lô bay\n"
     ]
    }
   ],
   "source": [
    "sentence = 'tạo zalopay'\n",
    "results = convert_to_vnese(sentence, new_dict)\n",
    "\n",
    "for r in results:\n",
    "  print(r)"
   ]
  },
  {
   "cell_type": "code",
   "execution_count": 25,
   "metadata": {},
   "outputs": [
    {
     "name": "stdout",
     "output_type": "stream",
     "text": [
      "tạo da lô pây da lô ép pi ti phây búc ép pi ti ép pi ti tê lê com\n",
      "tạo da lô pây da lô ép pi ti phây búc ép pi ti ép pi ti te le com\n",
      "tạo da lô pây da lô ép pi ti phết sờ bút ép pi ti ép pi ti tê lê com\n",
      "tạo da lô pây da lô ép pi ti phết sờ bút ép pi ti ép pi ti te le com\n",
      "tạo da lô pây da lô ép pi ti phết búc ép pi ti ép pi ti tê lê com\n",
      "tạo da lô pây da lô ép pi ti phết búc ép pi ti ép pi ti te le com\n",
      "tạo da lô pây da lô ép pi ti phết bút ép pi ti ép pi ti tê lê com\n",
      "tạo da lô pây da lô ép pi ti phết bút ép pi ti ép pi ti te le com\n",
      "tạo da lô pây da lô ép pi ti phay búc ép pi ti ép pi ti tê lê com\n",
      "tạo da lô pây da lô ép pi ti phay búc ép pi ti ép pi ti te le com\n",
      "tạo da lô pây da lô ép pi ti phay bút ép pi ti ép pi ti tê lê com\n",
      "tạo da lô pây da lô ép pi ti phay bút ép pi ti ép pi ti te le com\n",
      "tạo da lô pây da lô ép pi ti phây búc ép pi ti ép pi ti tê lê com\n",
      "tạo da lô pây da lô ép pi ti phây búc ép pi ti ép pi ti te le com\n",
      "tạo da lô pây da lô ép pi ti phây bút ép pi ti ép pi ti tê lê com\n",
      "tạo da lô pây da lô ép pi ti phây bút ép pi ti ép pi ti te le com\n",
      "tạo da lô pây da lô ép pi ti phay sờ búc ép pi ti ép pi ti tê lê com\n",
      "tạo da lô pây da lô ép pi ti phay sờ búc ép pi ti ép pi ti te le com\n",
      "tạo da lô pây da lô ép pi ti phay sờ bút ép pi ti ép pi ti tê lê com\n",
      "tạo da lô pây da lô ép pi ti phay sờ bút ép pi ti ép pi ti te le com\n",
      "tạo da lô pây da lô ép pi ti phây sờ búc ép pi ti ép pi ti tê lê com\n",
      "tạo da lô pây da lô ép pi ti phây sờ búc ép pi ti ép pi ti te le com\n",
      "tạo da lô pây da lô ép pi ti phây sờ bút ép pi ti ép pi ti tê lê com\n",
      "tạo da lô pây da lô ép pi ti phây sờ bút ép pi ti ép pi ti te le com\n",
      "tạo da lô pây da lô ép pi ti phết sờ búc ép pi ti ép pi ti tê lê com\n",
      "tạo da lô pây da lô ép pi ti phết sờ búc ép pi ti ép pi ti te le com\n",
      "tạo da lô bay da lô ép pi ti phây búc ép pi ti ép pi ti tê lê com\n",
      "tạo da lô bay da lô ép pi ti phây búc ép pi ti ép pi ti te le com\n",
      "tạo da lô bay da lô ép pi ti phết sờ bút ép pi ti ép pi ti tê lê com\n",
      "tạo da lô bay da lô ép pi ti phết sờ bút ép pi ti ép pi ti te le com\n",
      "tạo da lô bay da lô ép pi ti phết búc ép pi ti ép pi ti tê lê com\n",
      "tạo da lô bay da lô ép pi ti phết búc ép pi ti ép pi ti te le com\n",
      "tạo da lô bay da lô ép pi ti phết bút ép pi ti ép pi ti tê lê com\n",
      "tạo da lô bay da lô ép pi ti phết bút ép pi ti ép pi ti te le com\n",
      "tạo da lô bay da lô ép pi ti phay búc ép pi ti ép pi ti tê lê com\n",
      "tạo da lô bay da lô ép pi ti phay búc ép pi ti ép pi ti te le com\n",
      "tạo da lô bay da lô ép pi ti phay bút ép pi ti ép pi ti tê lê com\n",
      "tạo da lô bay da lô ép pi ti phay bút ép pi ti ép pi ti te le com\n",
      "tạo da lô bay da lô ép pi ti phây búc ép pi ti ép pi ti tê lê com\n",
      "tạo da lô bay da lô ép pi ti phây búc ép pi ti ép pi ti te le com\n",
      "tạo da lô bay da lô ép pi ti phây bút ép pi ti ép pi ti tê lê com\n",
      "tạo da lô bay da lô ép pi ti phây bút ép pi ti ép pi ti te le com\n",
      "tạo da lô bay da lô ép pi ti phay sờ búc ép pi ti ép pi ti tê lê com\n",
      "tạo da lô bay da lô ép pi ti phay sờ búc ép pi ti ép pi ti te le com\n",
      "tạo da lô bay da lô ép pi ti phay sờ bút ép pi ti ép pi ti tê lê com\n",
      "tạo da lô bay da lô ép pi ti phay sờ bút ép pi ti ép pi ti te le com\n",
      "tạo da lô bay da lô ép pi ti phây sờ búc ép pi ti ép pi ti tê lê com\n",
      "tạo da lô bay da lô ép pi ti phây sờ búc ép pi ti ép pi ti te le com\n",
      "tạo da lô bay da lô ép pi ti phây sờ bút ép pi ti ép pi ti tê lê com\n",
      "tạo da lô bay da lô ép pi ti phây sờ bút ép pi ti ép pi ti te le com\n",
      "tạo da lô bay da lô ép pi ti phết sờ búc ép pi ti ép pi ti tê lê com\n",
      "tạo da lô bay da lô ép pi ti phết sờ búc ép pi ti ép pi ti te le com\n"
     ]
    }
   ],
   "source": [
    "sentence = 'tạo zalopay zalo fpt facebook fpt fpt telecom'\n",
    "results = convert_to_vnese(sentence, new_dict)\n",
    "\n",
    "for r in results:\n",
    "  print(r)"
   ]
  },
  {
   "cell_type": "code",
   "execution_count": 26,
   "metadata": {},
   "outputs": [
    {
     "name": "stdout",
     "output_type": "stream",
     "text": [
      "tạo cáp pi tồ com mơ sồ trớt ép pi ti ép pi ti sóp que da lô ây pi ai da lô pây em èn nai\n",
      "tạo cáp pi tồ com mơ sồ trớt ép pi ti ép pi ti sóp que da lô ây pi ai da lô pây em mè nai\n",
      "tạo cáp pi tồ com mơ sồ trớt ép pi ti ép pi ti sóp que da lô ây pi ai da lô pây em mèn nai\n",
      "tạo cáp pi tồ com mơ sồ trớt ép pi ti ép pi ti sóp que da lô ây pi ai da lô pây em mờ nai\n",
      "tạo cáp pi tồ com mơ sồ trớt ép pi ti ép pi ti sóp que da lô ây pi ai da lô pây e mờ nai\n",
      "tạo cáp pi tồ com mơ sồ trớt ép pi ti ép pi ti sóp que da lô ây pi ai da lô pây em èn ai\n",
      "tạo cáp pi tồ com mơ sồ trớt ép pi ti ép pi ti sóp que da lô ây pi ai da lô pây i em èn ây ai\n",
      "tạo cáp pi tồ com mơ sồ trớt ép pi ti ép pi ti sóp que da lô ây pi ai da lô pây i em en ây ai\n",
      "tạo cáp pi tồ com mơ sồ trớt ép pi ti ép pi ti sóp que da lô ây pi ai da lô pây i ê mờ này ai\n",
      "tạo cáp pi tồ com mơ sồ trớt ép pi ti ép pi ti sóp que da lô ây pi ai da lô pây i ê mờ nai ai\n",
      "tạo cáp pi tồ com mơ sồ trớt ép pi ti ép pi ti sóp que da lô ây pi ai da lô pây i em èn nây ai\n",
      "tạo cáp pi tồ com mơ sồ trớt ép pi ti ép pi ti sóp que da lô ây pi ai da lô pây i em èn nai ai\n",
      "tạo cáp pi tồ com mơ sồ trớt ép pi ti ép pi ti sóp que da lô ây pi ai da lô pây em èn ây ai\n",
      "tạo cáp pi tồ com mơ sồ trớt ép pi ti ép pi ti sóp que da lô ây pi ai da lô pây i em mèn nây ai\n",
      "tạo cáp pi tồ com mơ sồ trớt ép pi ti ép pi ti sóp que da lô ây pi ai da lô bay em èn nai\n",
      "tạo cáp pi tồ com mơ sồ trớt ép pi ti ép pi ti sóp que da lô ây pi ai da lô bay em mè nai\n",
      "tạo cáp pi tồ com mơ sồ trớt ép pi ti ép pi ti sóp que da lô ây pi ai da lô bay em mèn nai\n",
      "tạo cáp pi tồ com mơ sồ trớt ép pi ti ép pi ti sóp que da lô ây pi ai da lô bay em mờ nai\n",
      "tạo cáp pi tồ com mơ sồ trớt ép pi ti ép pi ti sóp que da lô ây pi ai da lô bay e mờ nai\n",
      "tạo cáp pi tồ com mơ sồ trớt ép pi ti ép pi ti sóp que da lô ây pi ai da lô bay em èn ai\n",
      "tạo cáp pi tồ com mơ sồ trớt ép pi ti ép pi ti sóp que da lô ây pi ai da lô bay i em èn ây ai\n",
      "tạo cáp pi tồ com mơ sồ trớt ép pi ti ép pi ti sóp que da lô ây pi ai da lô bay i em en ây ai\n",
      "tạo cáp pi tồ com mơ sồ trớt ép pi ti ép pi ti sóp que da lô ây pi ai da lô bay i ê mờ này ai\n",
      "tạo cáp pi tồ com mơ sồ trớt ép pi ti ép pi ti sóp que da lô ây pi ai da lô bay i ê mờ nai ai\n",
      "tạo cáp pi tồ com mơ sồ trớt ép pi ti ép pi ti sóp que da lô ây pi ai da lô bay i em èn nây ai\n",
      "tạo cáp pi tồ com mơ sồ trớt ép pi ti ép pi ti sóp que da lô ây pi ai da lô bay i em èn nai ai\n",
      "tạo cáp pi tồ com mơ sồ trớt ép pi ti ép pi ti sóp que da lô ây pi ai da lô bay em èn ây ai\n",
      "tạo cáp pi tồ com mơ sồ trớt ép pi ti ép pi ti sóp que da lô ây pi ai da lô bay i em mèn nây ai\n"
     ]
    }
   ],
   "source": [
    "sentence = 'tạo capitaland commercial trust fpt fpt software zalo api zalopay em&ai'\n",
    "results = convert_to_vnese(sentence, new_dict)\n",
    "\n",
    "for r in results:\n",
    "  print(r)"
   ]
  },
  {
   "cell_type": "code",
   "execution_count": 8,
   "metadata": {},
   "outputs": [],
   "source": [
    "import pandas as pd\n",
    "import io\n",
    "import requests\n",
    "\n",
    "url=\"https://raw.githubusercontent.com/DuyKha0511/english2vnese/main/english_dict.csv\"\n",
    "s=requests.get(url).content\n",
    "c=pd.read_csv(io.StringIO(s.decode('utf-8')))"
   ]
  }
 ],
 "metadata": {
  "kernelspec": {
   "display_name": "Python 3",
   "language": "python",
   "name": "python3"
  },
  "language_info": {
   "codemirror_mode": {
    "name": "ipython",
    "version": 3
   },
   "file_extension": ".py",
   "mimetype": "text/x-python",
   "name": "python",
   "nbconvert_exporter": "python",
   "pygments_lexer": "ipython3",
   "version": "3.10.10"
  },
  "orig_nbformat": 4
 },
 "nbformat": 4,
 "nbformat_minor": 2
}
